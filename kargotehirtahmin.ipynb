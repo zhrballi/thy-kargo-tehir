{
 "cells": [
  {
   "cell_type": "code",
   "execution_count": 1,
   "id": "tropical-license",
   "metadata": {},
   "outputs": [],
   "source": [
    "import numpy as np\n",
    "import pandas as pd \n",
    "import matplotlib.pyplot as plt \n",
    "%matplotlib inline \n",
    "import seaborn as sns "
   ]
  },
  {
   "cell_type": "code",
   "execution_count": 2,
   "id": "representative-amber",
   "metadata": {},
   "outputs": [],
   "source": [
    "data=pd.read_excel(\"CARGO_FOTP_DATASET.xlsx\")"
   ]
  },
  {
   "cell_type": "code",
   "execution_count": 3,
   "id": "disabled-christopher",
   "metadata": {},
   "outputs": [],
   "source": [
    "df=data.copy()"
   ]
  },
  {
   "cell_type": "markdown",
   "id": "familiar-medicare",
   "metadata": {},
   "source": [
    "GOAL : Delay Prediction for cargo flights, Metric : %95 \n"
   ]
  },
  {
   "cell_type": "code",
   "execution_count": null,
   "id": "brutal-wayne",
   "metadata": {},
   "outputs": [],
   "source": [
    "df.info()\n",
    "df.head()"
   ]
  },
  {
   "cell_type": "code",
   "execution_count": null,
   "id": "vital-prairie",
   "metadata": {},
   "outputs": [],
   "source": [
    "df.describe()"
   ]
  },
  {
   "cell_type": "code",
   "execution_count": null,
   "id": "desirable-industry",
   "metadata": {},
   "outputs": [],
   "source": [
    "plt.figure(figsize=(15,10))\n",
    "sns.heatmap(df.isnull())"
   ]
  },
  {
   "cell_type": "code",
   "execution_count": null,
   "id": "juvenile-teacher",
   "metadata": {},
   "outputs": [],
   "source": [
    "df.isna()"
   ]
  },
  {
   "cell_type": "markdown",
   "id": "jewish-surge",
   "metadata": {},
   "source": [
    "HEDEF \n",
    "* Ayları mevsimsel olarak kodlama\n",
    "* Saatleri gün dilimlerine bölme (06-12 sabah, öğle, akşam, gece )\n",
    "* Hedef değişkenini oluşturma \n",
    "* Encoding \n",
    "* X_train, X_test \n",
    "\n"
   ]
  },
  {
   "cell_type": "code",
   "execution_count": 4,
   "id": "northern-macedonia",
   "metadata": {},
   "outputs": [],
   "source": [
    "df['DELAYED'] = [1 if x>0 else 0 for x in df['TOT_DELAY_DURATION']]"
   ]
  },
  {
   "cell_type": "code",
   "execution_count": 5,
   "id": "spare-management",
   "metadata": {},
   "outputs": [],
   "source": [
    "df[\"LEG_DEP_GMT_DT\"] = pd.to_datetime(df[\"LEG_DEP_GMT_DT\"],format='%Y%m%d') "
   ]
  },
  {
   "cell_type": "code",
   "execution_count": 6,
   "id": "guided-fight",
   "metadata": {},
   "outputs": [],
   "source": [
    "df['LEG_DEP_GMT_DT'] = df['LEG_DEP_GMT_DT'].apply(lambda time: time.month)"
   ]
  },
  {
   "cell_type": "code",
   "execution_count": 7,
   "id": "annual-thumbnail",
   "metadata": {},
   "outputs": [],
   "source": [
    "df[\"LEG_ARR_GMT_DT\"] = pd.to_datetime(df[\"LEG_ARR_GMT_DT\"],format='%Y%m%d') "
   ]
  },
  {
   "cell_type": "code",
   "execution_count": 8,
   "id": "welcome-passing",
   "metadata": {},
   "outputs": [],
   "source": [
    "df['LEG_ARR_GMT_DT'] = df['LEG_ARR_GMT_DT'].apply(lambda time: time.month)"
   ]
  },
  {
   "cell_type": "code",
   "execution_count": 9,
   "id": "thirty-testament",
   "metadata": {},
   "outputs": [
    {
     "data": {
      "text/plain": [
       "(99546, 29)"
      ]
     },
     "execution_count": 9,
     "metadata": {},
     "output_type": "execute_result"
    }
   ],
   "source": [
    "df.shape"
   ]
  },
  {
   "cell_type": "markdown",
   "id": "presidential-alfred",
   "metadata": {},
   "source": [
    "Target Variable : Delay \n",
    "Size : (99546, 29)\n",
    "Variables: object -->19, int64 -->10\n",
    "Missing Values "
   ]
  },
  {
   "cell_type": "code",
   "execution_count": null,
   "id": "computational-rhythm",
   "metadata": {},
   "outputs": [],
   "source": [
    "df.dtypes.value_counts().plot.pie()"
   ]
  },
  {
   "cell_type": "code",
   "execution_count": null,
   "id": "declared-lottery",
   "metadata": {},
   "outputs": [],
   "source": [
    "(df.isna().sum()/df.shape[0]).sort_values(ascending=True)"
   ]
  },
  {
   "cell_type": "code",
   "execution_count": null,
   "id": "fundamental-natural",
   "metadata": {},
   "outputs": [],
   "source": [
    "df=df[df.columns[df.isna().sum()/df.shape[0]<0.6]]"
   ]
  },
  {
   "cell_type": "code",
   "execution_count": null,
   "id": "written-logan",
   "metadata": {},
   "outputs": [],
   "source": [
    "df.shape"
   ]
  },
  {
   "cell_type": "markdown",
   "id": "entitled-carter",
   "metadata": {},
   "source": [
    "Visualisation of Target Variable \n",
    "%63 delayed \n",
    "%36 non delayed "
   ]
  },
  {
   "cell_type": "code",
   "execution_count": null,
   "id": "amino-induction",
   "metadata": {},
   "outputs": [],
   "source": [
    "df[\"DELAYED\"].value_counts(normalize=True)"
   ]
  },
  {
   "cell_type": "markdown",
   "id": "unnecessary-fifteen",
   "metadata": {},
   "source": [
    "Histogramme "
   ]
  },
  {
   "cell_type": "code",
   "execution_count": null,
   "id": "corrected-center",
   "metadata": {},
   "outputs": [],
   "source": [
    "for col in df.select_dtypes('int64'):\n",
    "    plt.figure()\n",
    "    sns.distplot(df[col],kde=False)\n",
    "    "
   ]
  },
  {
   "cell_type": "code",
   "execution_count": null,
   "id": "dressed-tuition",
   "metadata": {},
   "outputs": [],
   "source": [
    "sns.pairplot(df,kind='hist')"
   ]
  },
  {
   "cell_type": "code",
   "execution_count": null,
   "id": "three-combat",
   "metadata": {},
   "outputs": [],
   "source": [
    "for col in df.select_dtypes('object'):\n",
    "    print(f'{col:-<50}{df[col].nunique()}')"
   ]
  },
  {
   "cell_type": "code",
   "execution_count": null,
   "id": "indirect-remainder",
   "metadata": {},
   "outputs": [],
   "source": [
    "for col in df.select_dtypes('object'):\n",
    "    plt.figure()\n",
    "    df[col].value_counts().plot.pie()"
   ]
  },
  {
   "cell_type": "code",
   "execution_count": null,
   "id": "average-permit",
   "metadata": {},
   "outputs": [],
   "source": [
    "df_delayed=df[df['DELAYED']==1]\n",
    "df_nondelayed=df[df['DELAYED']==0]"
   ]
  },
  {
   "cell_type": "code",
   "execution_count": null,
   "id": "brown-tamil",
   "metadata": {},
   "outputs": [],
   "source": [
    "df_delayed.head()"
   ]
  },
  {
   "cell_type": "code",
   "execution_count": null,
   "id": "signal-fellowship",
   "metadata": {},
   "outputs": [],
   "source": [
    "#df[\"LEG_DEP_GMT_TM\"] = pd.to_datetime(df[\"LEG_DEP_GMT_TM\"],format='%H%m') \n",
    "#df['LEG_DEP_GMT_TM'] = df['LEG_DEP_GMT_TM'].apply(lambda time: time.hour)"
   ]
  },
  {
   "cell_type": "code",
   "execution_count": null,
   "id": "bridal-cricket",
   "metadata": {},
   "outputs": [],
   "source": [
    "df.head()"
   ]
  },
  {
   "cell_type": "code",
   "execution_count": null,
   "id": "looking-equation",
   "metadata": {},
   "outputs": [],
   "source": [
    "#df['LEG_DEP_GMT_TM_H'] = df['LEG_DEP_GMT_TM'].apply(lambda x: x.split(str(df['LEG_DEP_GMT_TM']),2))"
   ]
  },
  {
   "cell_type": "code",
   "execution_count": 10,
   "id": "infinite-dialogue",
   "metadata": {},
   "outputs": [],
   "source": [
    "df['LEG_ARR_GMT_TM'] = df['LEG_ARR_GMT_TM'].apply(lambda x: x//100)"
   ]
  },
  {
   "cell_type": "code",
   "execution_count": 11,
   "id": "every-venezuela",
   "metadata": {},
   "outputs": [],
   "source": [
    "df['LEG_DEP_GMT_TM'] = df['LEG_DEP_GMT_TM'].apply(lambda x: x//100)"
   ]
  },
  {
   "cell_type": "code",
   "execution_count": null,
   "id": "distributed-handle",
   "metadata": {},
   "outputs": [],
   "source": [
    "df.tail()"
   ]
  },
  {
   "cell_type": "code",
   "execution_count": null,
   "id": "comprehensive-quantity",
   "metadata": {},
   "outputs": [],
   "source": [
    "#df=df.drop('LEG_DEP_GMT_TM_H',inplace=True,axis=1)"
   ]
  },
  {
   "cell_type": "code",
   "execution_count": null,
   "id": "solid-large",
   "metadata": {},
   "outputs": [],
   "source": [
    "plt.figure(figsize=(15,10))\n",
    "sns.heatmap(df.isnull())"
   ]
  },
  {
   "cell_type": "code",
   "execution_count": null,
   "id": "biological-hostel",
   "metadata": {},
   "outputs": [],
   "source": [
    "df.head()"
   ]
  },
  {
   "cell_type": "code",
   "execution_count": 12,
   "id": "accessory-impression",
   "metadata": {},
   "outputs": [
    {
     "data": {
      "text/plain": [
       "353"
      ]
     },
     "execution_count": 12,
     "metadata": {},
     "output_type": "execute_result"
    }
   ],
   "source": [
    "df['DELAY1_SUB_CODE'].nunique()"
   ]
  },
  {
   "cell_type": "code",
   "execution_count": 15,
   "id": "demonstrated-latino",
   "metadata": {},
   "outputs": [
    {
     "data": {
      "text/plain": [
       "array([nan, '64D', 'CF', '89Z', '56B', '63G', '64A', '36H', '64R', '09C',\n",
       "       '31P', '22E', '22C', '57F', '89K', '65Z', '62D', '63J', '41A',\n",
       "       '36B', '32A', '31B', '87Y', '31A', '31E', '42A', '55O', '31C',\n",
       "       '99A', '21E', '32E', '26C', '72R', '37D', '68G', '63A', '68B',\n",
       "       '41Q', '55A', '63D', '66H', '85F', '39F', '31D', '66A', '77B',\n",
       "       '23A', '71R', '45D', '65Y', '61D', '04A', '21A', '41N', '62M',\n",
       "       '35F', '46N', '31N', '68S', '63C', '92B', '96C', '13M', '36C',\n",
       "       '51C', '86G', '95B', '63B', '86C', '37E', '95A', '35E', '65E',\n",
       "       '63K', '86F', '51J', '86B', '63H', '09A', '61F', '88E', '67E',\n",
       "       '21C', '64E', '02A', '58B', '65C', '62E', '51N', '93X', '36D',\n",
       "       '81Z', '68D', '88D', '26A', '51B', '83R', '64B', '22A', '98F',\n",
       "       '03A', '58A', '31S', '86J', '17X', '24A', '89X', '31H', '85Q',\n",
       "       '67B', '87W', '22B', '32C', '89T', '43P', '41B', '86H', '16D',\n",
       "       '61H', '65D', '31F', '83Z', '22N', '88A', '67R', '88B', '83O',\n",
       "       '76C', '32D', '68O', '32M', '51H', '32B', '68F', '45N', '24N',\n",
       "       '88O', '89S', '61B', '77A', '91O', '86O', '34B', '02B', '96S',\n",
       "       '65N', '32S', '22D', '09B', '75H', '39D', '37G', '36G', '85A',\n",
       "       '26T', '72A', '93Y', '66F', '66G', '35A', '42B', '41E', '96H',\n",
       "       '39C', '43C', '52P', '36F', '23D', '33A', '35H', '87Z', '39A',\n",
       "       '55B', '25C', '32F', '57E', '67D', '96D', '34C', '63X', '34D',\n",
       "       '81Y', '82W', '22O', '66D', '96G', '89V', '27A', '89G', '33D',\n",
       "       '33C', '68N', '25A', '35I', '89Y', '41C', '67A', '63F', '55U',\n",
       "       '87G', '83T', '64C', '71A', '35G', '75A', '52C', '55D', '65R',\n",
       "       '34F', '52F', '85S', '39G', '44A', '87H', '86A', '55C', '75B',\n",
       "       '87J', '94B', '87R', '28D', '55S', '82Y', '89M', '98N', '01A',\n",
       "       '93V', '34N', '51A', '36K', '57D', '93W', '91N', '51E', '86X',\n",
       "       '82Q', '82Z', '22X', '82X', '93U', '38B', '01B', '01Y', '63L',\n",
       "       '24Y', '01C', '01D', '57A', '84A', '25B', '45A', '56A', '96F',\n",
       "       '41P', '34E', '88P', '96X', '89L', '01E', '28A', '39H', '86D',\n",
       "       '38A', '56D', '96N', '23B', '96T', '33B', '96E', '41D', '23C',\n",
       "       '01X', '26X', '95C', '29B', '96A', '38C', '52N', '65B', '77C',\n",
       "       '24B', '62B', '24X', '62N', '03B', '16N', '39B', '85P', '83U',\n",
       "       '36A', '41S', '98L', '41R', '33X', '27C', '29A', '64H', '88C',\n",
       "       '56E', '36E', '83S', '32X', '46E', '89U', '72B', '63M', '87K',\n",
       "       '83Y', '41X', '97D', '98E', '23E', '57B', '39X', '83V', '98D',\n",
       "       '21X', '61I', '28B', '85T', '75C', '86N', '88Q', '72X', '52K',\n",
       "       '51D', '28C', '89R', '89N', '35D', '66B', '73R', '43N', '98B',\n",
       "       '17P', '52B', '17A', '82V', '73A', '51X', '31G', '36X', '51K',\n",
       "       '71X', '23X', '85H', '89J', '44C', '66E', '41O', '11O', '76A',\n",
       "       '73B', '73Z'], dtype=object)"
      ]
     },
     "execution_count": 15,
     "metadata": {},
     "output_type": "execute_result"
    }
   ],
   "source": [
    "df['DELAY1_SUB_CODE'].unique()"
   ]
  },
  {
   "cell_type": "code",
   "execution_count": 13,
   "id": "european-canyon",
   "metadata": {},
   "outputs": [],
   "source": [
    "df['DELAY1_SUB_CODE'] = df['DELAY1_SUB_CODE'].replace(['93Z'],'CF')"
   ]
  },
  {
   "cell_type": "code",
   "execution_count": 16,
   "id": "sonic-letters",
   "metadata": {},
   "outputs": [],
   "source": [
    "df['DELAY1_SUB_CODE'] = df['DELAY1_SUB_CODE'].replace(['21A','21C','22A','22B','22C','22D','22E','22N','22O','23A','23C','23D','23E','24A','24B','24N','26A','26C','26T','27A','27C','28A','28B','28C','28D','31A','31B','31G','31N','31P','31S','32A','32B','32C','32D','32E','32G','32M','33A','33B','33C','33D','33E','34B','34C','34D','34E','34F','34N','35A','35B','35C','35D','35E','35G','35H','38A','38B','39A','39B','39C','39D','39E','39F','39G','39H','52A','52C'],'OP')"
   ]
  },
  {
   "cell_type": "code",
   "execution_count": 18,
   "id": "regulation-northwest",
   "metadata": {},
   "outputs": [
    {
     "data": {
      "text/plain": [
       "array([nan, '64D', 'CF', '89Z', '56B', '63G', '64A', '36H', '64R', '09C',\n",
       "       'OP', '57F', '89K', '65Z', '62D', '63J', '41A', '36B', '87Y',\n",
       "       '31E', '42A', '55O', '31C', '99A', '21E', '72R', '37D', '68G',\n",
       "       '63A', '68B', '41Q', '55A', '63D', '66H', '85F', '31D', '66A',\n",
       "       '77B', '71R', '45D', '65Y', '61D', '04A', '41N', '62M', '35F',\n",
       "       '46N', '68S', '63C', '92B', '96C', '13M', '36C', '51C', '86G',\n",
       "       '95B', '63B', '86C', '37E', '95A', '65E', '63K', '86F', '51J',\n",
       "       '86B', '63H', '09A', '61F', '88E', '67E', '64E', '02A', '58B',\n",
       "       '65C', '62E', '51N', '93X', '36D', '81Z', '68D', '88D', '51B',\n",
       "       '83R', '64B', '98F', '03A', '58A', '86J', '17X', '89X', '31H',\n",
       "       '85Q', '67B', '87W', '89T', '43P', '41B', '86H', '16D', '61H',\n",
       "       '65D', '31F', '83Z', '88A', '67R', '88B', '83O', '76C', '68O',\n",
       "       '51H', '68F', '45N', '88O', '89S', '61B', '77A', '91O', '86O',\n",
       "       '02B', '96S', '65N', '32S', '09B', '75H', '37G', '36G', '85A',\n",
       "       '72A', '93Y', '66F', '66G', '42B', '41E', '96H', '43C', '52P',\n",
       "       '36F', '87Z', '55B', '25C', '32F', '57E', '67D', '96D', '63X',\n",
       "       '81Y', '82W', '66D', '96G', '89V', '89G', '68N', '25A', '35I',\n",
       "       '89Y', '41C', '67A', '63F', '55U', '87G', '83T', '64C', '71A',\n",
       "       '75A', '55D', '65R', '52F', '85S', '44A', '87H', '86A', '55C',\n",
       "       '75B', '87J', '94B', '87R', '55S', '82Y', '89M', '98N', '01A',\n",
       "       '93V', '51A', '36K', '57D', '93W', '91N', '51E', '86X', '82Q',\n",
       "       '82Z', '22X', '82X', '93U', '01B', '01Y', '63L', '24Y', '01C',\n",
       "       '01D', '57A', '84A', '25B', '45A', '56A', '96F', '41P', '88P',\n",
       "       '96X', '89L', '01E', '86D', '56D', '96N', '23B', '96T', '96E',\n",
       "       '41D', '01X', '26X', '95C', '29B', '96A', '38C', '52N', '65B',\n",
       "       '77C', '62B', '24X', '62N', '03B', '16N', '85P', '83U', '36A',\n",
       "       '41S', '98L', '41R', '33X', '29A', '64H', '88C', '56E', '36E',\n",
       "       '83S', '32X', '46E', '89U', '72B', '63M', '87K', '83Y', '41X',\n",
       "       '97D', '98E', '57B', '39X', '83V', '98D', '21X', '61I', '85T',\n",
       "       '75C', '86N', '88Q', '72X', '52K', '51D', '89R', '89N', '66B',\n",
       "       '73R', '43N', '98B', '17P', '52B', '17A', '82V', '73A', '51X',\n",
       "       '36X', '51K', '71X', '23X', '85H', '89J', '44C', '66E', '41O',\n",
       "       '11O', '76A', '73B', '73Z'], dtype=object)"
      ]
     },
     "execution_count": 18,
     "metadata": {},
     "output_type": "execute_result"
    }
   ],
   "source": [
    "df['DELAY1_SUB_CODE'].unique()"
   ]
  },
  {
   "cell_type": "code",
   "execution_count": null,
   "id": "failing-leone",
   "metadata": {},
   "outputs": [],
   "source": [
    "df['DELAY1_SUB_CODE'].nunique()"
   ]
  },
  {
   "cell_type": "code",
   "execution_count": 19,
   "id": "primary-traffic",
   "metadata": {},
   "outputs": [],
   "source": [
    "df['DELAY1_SUB_CODE'] = df['DELAY1_SUB_CODE'].replace(['64D', '89Z', '56B', '63G', '64A', '36H', '64R', '09C',\n",
    "     '57F', '89K', '65Z', '62D', '63J', '41A', '36B', '87Y',\n",
    "       '31E', '42A', '55O', '31C', '99A', '21E', '72R', '37D', '68G',\n",
    "       '63A', '68B', '41Q', '55A', '63D', '66H', '85F', '31D', '66A',\n",
    "       '77B', '71R', '45D', '65Y', '61D', '04A', '41N', '62M', '35F',\n",
    "       '46N', '68S', '63C', '92B', '96C', '13M', '36C', '51C', '86G',\n",
    "       '95B', '63B', '86C', '37E', '95A', '65E', '63K', '86F', '51J',\n",
    "       '86B', '63H', '09A', '61F', '88E', '67E', '64E', '02A', '58B',\n",
    "       '65C', '62E', '51N', '93X', '36D', '81Z', '68D', '88D', '51B',\n",
    "       '83R', '64B', '98F', '03A', '58A', '86J', '17X', '89X', '31H',\n",
    "       '85Q', '67B', '87W', '89T', '43P', '41B', '86H', '16D', '61H',\n",
    "       '65D', '31F', '83Z', '88A', '67R', '88B', '83O', '76C', '68O',\n",
    "       '51H', '68F', '45N', '88O', '89S', '61B', '77A', '91O', '86O',\n",
    "       '02B', '96S', '65N', '32S', '09B', '75H', '37G', '36G', '85A',\n",
    "       '72A', '93Y', '66F', '66G', '42B', '41E', '96H', '43C', '52P',\n",
    "       '36F', '87Z', '55B', '25C', '32F', '57E', '67D', '96D', '63X',\n",
    "       '81Y', '82W', '66D', '96G', '89V', '89G', '68N', '25A', '35I',\n",
    "       '89Y', '41C', '67A', '63F', '55U', '87G', '83T', '64C', '71A',\n",
    "       '75A', '55D', '65R', '52F', '85S', '44A', '87H', '86A', '55C',\n",
    "       '75B', '87J', '94B', '87R', '55S', '82Y', '89M', '98N', '01A',\n",
    "       '93V', '51A', '36K', '57D', '93W', '91N', '51E', '86X', '82Q',\n",
    "       '82Z', '22X', '82X', '93U', '01B', '01Y', '63L', '24Y', '01C',\n",
    "       '01D', '57A', '84A', '25B', '45A', '56A', '96F', '41P', '88P',\n",
    "       '96X', '89L', '01E', '86D', '56D', '96N', '23B', '96T', '96E',\n",
    "       '41D', '01X', '26X', '95C', '29B', '96A', '38C', '52N', '65B',\n",
    "       '77C', '62B', '24X', '62N', '03B', '16N', '85P', '83U', '36A',\n",
    "       '41S', '98L', '41R', '33X', '29A', '64H', '88C', '56E', '36E',\n",
    "       '83S', '32X', '46E', '89U', '72B', '63M', '87K', '83Y', '41X',\n",
    "       '97D', '98E', '57B', '39X', '83V', '98D', '21X', '61I', '85T',\n",
    "       '75C', '86N', '88Q', '72X', '52K', '51D', '89R', '89N', '66B',\n",
    "       '73R', '43N', '98B', '17P', '52B', '17A', '82V', '73A', '51X',\n",
    "       '36X', '51K', '71X', '23X', '85H', '89J', '44C', '66E', '41O',\n",
    "       '11O', '76A', '73B', '73Z'],'2')"
   ]
  },
  {
   "cell_type": "code",
   "execution_count": 29,
   "id": "veterinary-monthly",
   "metadata": {},
   "outputs": [
    {
     "data": {
      "text/plain": [
       "<AxesSubplot:>"
      ]
     },
     "execution_count": 29,
     "metadata": {},
     "output_type": "execute_result"
    },
    {
     "data": {
      "image/png": "[encoded data removed]",
      "text/plain": [
       "<Figure size 720x432 with 2 Axes>"
      ]
     },
     "metadata": {
      "needs_background": "light"
     },
     "output_type": "display_data"
    }
   ],
   "source": [
    "plt.figure(figsize=(10,6))\n",
    "sns.heatmap(df.isna())"
   ]
  },
  {
   "cell_type": "code",
   "execution_count": null,
   "id": "composite-observer",
   "metadata": {},
   "outputs": [],
   "source": [
    "for col in df.select_dtypes('int64'):\n",
    "    plt.figure()\n",
    "    sns.distplot(df_delayed[col], label=\"delayed\")\n",
    "    sns.distplot(df_nondelayed[col], label=\"non delayed\")"
   ]
  },
  {
   "cell_type": "code",
   "execution_count": 28,
   "id": "supreme-excuse",
   "metadata": {},
   "outputs": [
    {
     "data": {
      "text/plain": [
       "(99546, 29)"
      ]
     },
     "execution_count": 28,
     "metadata": {},
     "output_type": "execute_result"
    }
   ],
   "source": [
    "df.shape"
   ]
  },
  {
   "cell_type": "code",
   "execution_count": 35,
   "id": "substantial-tuition",
   "metadata": {},
   "outputs": [],
   "source": [
    "df['DELAY1_SUB_CODE'] = df['DELAY1_SUB_CODE'].replace(np.NAN,'ND')"
   ]
  },
  {
   "cell_type": "code",
   "execution_count": 36,
   "id": "amber-stomach",
   "metadata": {},
   "outputs": [
    {
     "data": {
      "text/plain": [
       "array(['ND', 'GN', 'CF', 'OP'], dtype=object)"
      ]
     },
     "execution_count": 36,
     "metadata": {},
     "output_type": "execute_result"
    }
   ],
   "source": [
    "df['DELAY1_SUB_CODE'].unique()"
   ]
  },
  {
   "cell_type": "code",
   "execution_count": null,
   "id": "southern-clinton",
   "metadata": {},
   "outputs": [],
   "source": []
  }
 ],
 "metadata": {
  "kernelspec": {
   "display_name": "Python 3",
   "language": "python",
   "name": "python3"
  },
  "language_info": {
   "codemirror_mode": {
    "name": "ipython",
    "version": 3
   },
   "file_extension": ".py",
   "mimetype": "text/x-python",
   "name": "python",
   "nbconvert_exporter": "python",
   "pygments_lexer": "ipython3",
   "version": "3.8.5"
  }
 },
 "nbformat": 4,
 "nbformat_minor": 5
}
