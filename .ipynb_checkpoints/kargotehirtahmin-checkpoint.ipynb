{
 "cells": [
  {
   "cell_type": "code",
   "execution_count": 1,
   "metadata": {},
   "outputs": [],
   "source": [
    "import numpy as np\n",
    "import pandas as pd \n",
    "import matplotlib.pyplot as plt \n",
    "%matplotlib inline \n",
    "import seaborn as sns "
   ]
  },
  {
   "cell_type": "code",
   "execution_count": 2,
   "metadata": {},
   "outputs": [],
   "source": [
    "data=pd.read_excel(\"CARGO_FOTP_DATASET.xlsx\")"
   ]
  },
  {
   "cell_type": "code",
   "execution_count": 3,
   "metadata": {},
   "outputs": [],
   "source": [
    "df=data.copy()"
   ]
  },
  {
   "cell_type": "markdown",
   "metadata": {},
   "source": [
    "GOAL : Delay Prediction for cargo flights, Metric : %95 \n"
   ]
  },
  {
   "cell_type": "code",
   "execution_count": 4,
   "metadata": {},
   "outputs": [
    {
     "name": "stdout",
     "output_type": "stream",
     "text": [
      "<class 'pandas.core.frame.DataFrame'>\n",
      "RangeIndex: 99546 entries, 0 to 99545\n",
      "Data columns (total 28 columns):\n",
      " #   Column               Non-Null Count  Dtype \n",
      "---  ------               --------------  ----- \n",
      " 0   FLT_NO               99546 non-null  object\n",
      " 1   ACT_CUS_FLE          99546 non-null  object\n",
      " 2   FLEET                99546 non-null  object\n",
      " 3   FLEET_FAM            99546 non-null  object\n",
      " 4   FLEET_FAM_GRP        99546 non-null  object\n",
      " 5   FLEET_BODY_TYP       99546 non-null  object\n",
      " 6   FLT_TYP              99546 non-null  object\n",
      " 7   LEG_DEP_AP           99546 non-null  object\n",
      " 8   LEG_DEP_GMT_DT       99546 non-null  int64 \n",
      " 9   LEG_DEP_GMT_TM       99546 non-null  int64 \n",
      " 10  LEG_DEP_CNTRY_COD    99512 non-null  object\n",
      " 11  LEG_DEP_RGN_COD      95771 non-null  object\n",
      " 12  LEG_ARR_AP           99546 non-null  object\n",
      " 13  LEG_ARR_GMT_DT       99546 non-null  int64 \n",
      " 14  LEG_ARR_GMT_TM       99546 non-null  int64 \n",
      " 15  LEG_ARR_CNTRY_COD    99512 non-null  object\n",
      " 16  LEG_ACT_ARR_RGN_COD  95769 non-null  object\n",
      " 17  DELAY1_SUB_CODE      63399 non-null  object\n",
      " 18  DELAY2_SUB_CODE      35947 non-null  object\n",
      " 19  DELAY3_SUB_CODE      10146 non-null  object\n",
      " 20  DELAY4_SUB_CODE      1536 non-null   object\n",
      " 21  DELAY_ROOT_ARR_AP    99546 non-null  object\n",
      " 22  DELAY_ROOT_DEP_AP    99546 non-null  object\n",
      " 23  DELAY1_DURATION      99546 non-null  int64 \n",
      " 24  DELAY2_DURATION      99546 non-null  int64 \n",
      " 25  DELAY3_DURATION      99546 non-null  int64 \n",
      " 26  DELAY4_DURATION      99546 non-null  int64 \n",
      " 27  TOT_DELAY_DURATION   99546 non-null  int64 \n",
      "dtypes: int64(9), object(19)\n",
      "memory usage: 21.3+ MB\n"
     ]
    },
    {
     "data": {
      "text/html": [
       "<div>\n",
       "<style scoped>\n",
       "    .dataframe tbody tr th:only-of-type {\n",
       "        vertical-align: middle;\n",
       "    }\n",
       "\n",
       "    .dataframe tbody tr th {\n",
       "        vertical-align: top;\n",
       "    }\n",
       "\n",
       "    .dataframe thead th {\n",
       "        text-align: right;\n",
       "    }\n",
       "</style>\n",
       "<table border=\"1\" class=\"dataframe\">\n",
       "  <thead>\n",
       "    <tr style=\"text-align: right;\">\n",
       "      <th></th>\n",
       "      <th>FLT_NO</th>\n",
       "      <th>ACT_CUS_FLE</th>\n",
       "      <th>FLEET</th>\n",
       "      <th>FLEET_FAM</th>\n",
       "      <th>FLEET_FAM_GRP</th>\n",
       "      <th>FLEET_BODY_TYP</th>\n",
       "      <th>FLT_TYP</th>\n",
       "      <th>LEG_DEP_AP</th>\n",
       "      <th>LEG_DEP_GMT_DT</th>\n",
       "      <th>LEG_DEP_GMT_TM</th>\n",
       "      <th>...</th>\n",
       "      <th>DELAY2_SUB_CODE</th>\n",
       "      <th>DELAY3_SUB_CODE</th>\n",
       "      <th>DELAY4_SUB_CODE</th>\n",
       "      <th>DELAY_ROOT_ARR_AP</th>\n",
       "      <th>DELAY_ROOT_DEP_AP</th>\n",
       "      <th>DELAY1_DURATION</th>\n",
       "      <th>DELAY2_DURATION</th>\n",
       "      <th>DELAY3_DURATION</th>\n",
       "      <th>DELAY4_DURATION</th>\n",
       "      <th>TOT_DELAY_DURATION</th>\n",
       "    </tr>\n",
       "  </thead>\n",
       "  <tbody>\n",
       "    <tr>\n",
       "      <th>0</th>\n",
       "      <td>FL7064</td>\n",
       "      <td>FL-45X</td>\n",
       "      <td>TX750-30</td>\n",
       "      <td>TX750</td>\n",
       "      <td>TX750</td>\n",
       "      <td>B1</td>\n",
       "      <td>TYP1</td>\n",
       "      <td>IST</td>\n",
       "      <td>20210509</td>\n",
       "      <td>1205</td>\n",
       "      <td>...</td>\n",
       "      <td>NaN</td>\n",
       "      <td>NaN</td>\n",
       "      <td>NaN</td>\n",
       "      <td>?</td>\n",
       "      <td>?</td>\n",
       "      <td>0</td>\n",
       "      <td>0</td>\n",
       "      <td>0</td>\n",
       "      <td>0</td>\n",
       "      <td>0</td>\n",
       "    </tr>\n",
       "    <tr>\n",
       "      <th>1</th>\n",
       "      <td>FL7064</td>\n",
       "      <td>FL-45X</td>\n",
       "      <td>TX750-30</td>\n",
       "      <td>TX750</td>\n",
       "      <td>TX750</td>\n",
       "      <td>B1</td>\n",
       "      <td>TYP1</td>\n",
       "      <td>IST</td>\n",
       "      <td>20210512</td>\n",
       "      <td>1526</td>\n",
       "      <td>...</td>\n",
       "      <td>NaN</td>\n",
       "      <td>NaN</td>\n",
       "      <td>NaN</td>\n",
       "      <td>?</td>\n",
       "      <td>?</td>\n",
       "      <td>0</td>\n",
       "      <td>0</td>\n",
       "      <td>0</td>\n",
       "      <td>0</td>\n",
       "      <td>0</td>\n",
       "    </tr>\n",
       "    <tr>\n",
       "      <th>2</th>\n",
       "      <td>FL7064</td>\n",
       "      <td>FL-45X</td>\n",
       "      <td>TX750-30</td>\n",
       "      <td>TX750</td>\n",
       "      <td>TX750</td>\n",
       "      <td>B1</td>\n",
       "      <td>TYP1</td>\n",
       "      <td>IST</td>\n",
       "      <td>20210516</td>\n",
       "      <td>1209</td>\n",
       "      <td>...</td>\n",
       "      <td>NaN</td>\n",
       "      <td>NaN</td>\n",
       "      <td>NaN</td>\n",
       "      <td>?</td>\n",
       "      <td>?</td>\n",
       "      <td>0</td>\n",
       "      <td>0</td>\n",
       "      <td>0</td>\n",
       "      <td>0</td>\n",
       "      <td>0</td>\n",
       "    </tr>\n",
       "    <tr>\n",
       "      <th>3</th>\n",
       "      <td>FL7064</td>\n",
       "      <td>FL-45X</td>\n",
       "      <td>TX750-30</td>\n",
       "      <td>TX750</td>\n",
       "      <td>TX750</td>\n",
       "      <td>B1</td>\n",
       "      <td>TYP1</td>\n",
       "      <td>IST</td>\n",
       "      <td>20210519</td>\n",
       "      <td>1528</td>\n",
       "      <td>...</td>\n",
       "      <td>NaN</td>\n",
       "      <td>NaN</td>\n",
       "      <td>NaN</td>\n",
       "      <td>?</td>\n",
       "      <td>?</td>\n",
       "      <td>0</td>\n",
       "      <td>0</td>\n",
       "      <td>0</td>\n",
       "      <td>0</td>\n",
       "      <td>0</td>\n",
       "    </tr>\n",
       "    <tr>\n",
       "      <th>4</th>\n",
       "      <td>FL7064</td>\n",
       "      <td>FL-45X</td>\n",
       "      <td>TX750-30</td>\n",
       "      <td>TX750</td>\n",
       "      <td>TX750</td>\n",
       "      <td>B1</td>\n",
       "      <td>TYP1</td>\n",
       "      <td>IST</td>\n",
       "      <td>20210523</td>\n",
       "      <td>1205</td>\n",
       "      <td>...</td>\n",
       "      <td>NaN</td>\n",
       "      <td>NaN</td>\n",
       "      <td>NaN</td>\n",
       "      <td>?</td>\n",
       "      <td>?</td>\n",
       "      <td>0</td>\n",
       "      <td>0</td>\n",
       "      <td>0</td>\n",
       "      <td>0</td>\n",
       "      <td>0</td>\n",
       "    </tr>\n",
       "  </tbody>\n",
       "</table>\n",
       "<p>5 rows × 28 columns</p>\n",
       "</div>"
      ],
      "text/plain": [
       "   FLT_NO ACT_CUS_FLE     FLEET FLEET_FAM FLEET_FAM_GRP FLEET_BODY_TYP  \\\n",
       "0  FL7064      FL-45X  TX750-30     TX750         TX750             B1   \n",
       "1  FL7064      FL-45X  TX750-30     TX750         TX750             B1   \n",
       "2  FL7064      FL-45X  TX750-30     TX750         TX750             B1   \n",
       "3  FL7064      FL-45X  TX750-30     TX750         TX750             B1   \n",
       "4  FL7064      FL-45X  TX750-30     TX750         TX750             B1   \n",
       "\n",
       "  FLT_TYP LEG_DEP_AP  LEG_DEP_GMT_DT  LEG_DEP_GMT_TM  ... DELAY2_SUB_CODE  \\\n",
       "0    TYP1        IST        20210509            1205  ...             NaN   \n",
       "1    TYP1        IST        20210512            1526  ...             NaN   \n",
       "2    TYP1        IST        20210516            1209  ...             NaN   \n",
       "3    TYP1        IST        20210519            1528  ...             NaN   \n",
       "4    TYP1        IST        20210523            1205  ...             NaN   \n",
       "\n",
       "  DELAY3_SUB_CODE DELAY4_SUB_CODE  DELAY_ROOT_ARR_AP  DELAY_ROOT_DEP_AP  \\\n",
       "0             NaN             NaN                  ?                  ?   \n",
       "1             NaN             NaN                  ?                  ?   \n",
       "2             NaN             NaN                  ?                  ?   \n",
       "3             NaN             NaN                  ?                  ?   \n",
       "4             NaN             NaN                  ?                  ?   \n",
       "\n",
       "  DELAY1_DURATION DELAY2_DURATION DELAY3_DURATION DELAY4_DURATION  \\\n",
       "0               0               0               0               0   \n",
       "1               0               0               0               0   \n",
       "2               0               0               0               0   \n",
       "3               0               0               0               0   \n",
       "4               0               0               0               0   \n",
       "\n",
       "  TOT_DELAY_DURATION  \n",
       "0                  0  \n",
       "1                  0  \n",
       "2                  0  \n",
       "3                  0  \n",
       "4                  0  \n",
       "\n",
       "[5 rows x 28 columns]"
      ]
     },
     "execution_count": 4,
     "metadata": {},
     "output_type": "execute_result"
    }
   ],
   "source": [
    "df.info()\n",
    "df.head()"
   ]
  },
  {
   "cell_type": "code",
   "execution_count": 5,
   "metadata": {},
   "outputs": [
    {
     "data": {
      "text/html": [
       "<div>\n",
       "<style scoped>\n",
       "    .dataframe tbody tr th:only-of-type {\n",
       "        vertical-align: middle;\n",
       "    }\n",
       "\n",
       "    .dataframe tbody tr th {\n",
       "        vertical-align: top;\n",
       "    }\n",
       "\n",
       "    .dataframe thead th {\n",
       "        text-align: right;\n",
       "    }\n",
       "</style>\n",
       "<table border=\"1\" class=\"dataframe\">\n",
       "  <thead>\n",
       "    <tr style=\"text-align: right;\">\n",
       "      <th></th>\n",
       "      <th>LEG_DEP_GMT_DT</th>\n",
       "      <th>LEG_DEP_GMT_TM</th>\n",
       "      <th>LEG_ARR_GMT_DT</th>\n",
       "      <th>LEG_ARR_GMT_TM</th>\n",
       "      <th>DELAY1_DURATION</th>\n",
       "      <th>DELAY2_DURATION</th>\n",
       "      <th>DELAY3_DURATION</th>\n",
       "      <th>DELAY4_DURATION</th>\n",
       "      <th>TOT_DELAY_DURATION</th>\n",
       "    </tr>\n",
       "  </thead>\n",
       "  <tbody>\n",
       "    <tr>\n",
       "      <th>count</th>\n",
       "      <td>9.954600e+04</td>\n",
       "      <td>99546.000000</td>\n",
       "      <td>9.954600e+04</td>\n",
       "      <td>99546.000000</td>\n",
       "      <td>99546.000000</td>\n",
       "      <td>99546.000000</td>\n",
       "      <td>99546.000000</td>\n",
       "      <td>99546.000000</td>\n",
       "      <td>99546.000000</td>\n",
       "    </tr>\n",
       "    <tr>\n",
       "      <th>mean</th>\n",
       "      <td>2.019249e+07</td>\n",
       "      <td>1201.375203</td>\n",
       "      <td>2.019250e+07</td>\n",
       "      <td>1208.110803</td>\n",
       "      <td>112.058486</td>\n",
       "      <td>12.377192</td>\n",
       "      <td>2.249915</td>\n",
       "      <td>0.353264</td>\n",
       "      <td>127.038856</td>\n",
       "    </tr>\n",
       "    <tr>\n",
       "      <th>std</th>\n",
       "      <td>1.289824e+04</td>\n",
       "      <td>668.607877</td>\n",
       "      <td>1.289884e+04</td>\n",
       "      <td>666.799934</td>\n",
       "      <td>277.712802</td>\n",
       "      <td>67.957361</td>\n",
       "      <td>24.556694</td>\n",
       "      <td>8.632271</td>\n",
       "      <td>297.532552</td>\n",
       "    </tr>\n",
       "    <tr>\n",
       "      <th>min</th>\n",
       "      <td>2.017010e+07</td>\n",
       "      <td>0.000000</td>\n",
       "      <td>2.017010e+07</td>\n",
       "      <td>0.000000</td>\n",
       "      <td>0.000000</td>\n",
       "      <td>0.000000</td>\n",
       "      <td>0.000000</td>\n",
       "      <td>0.000000</td>\n",
       "      <td>0.000000</td>\n",
       "    </tr>\n",
       "    <tr>\n",
       "      <th>25%</th>\n",
       "      <td>2.018083e+07</td>\n",
       "      <td>618.000000</td>\n",
       "      <td>2.018083e+07</td>\n",
       "      <td>646.000000</td>\n",
       "      <td>0.000000</td>\n",
       "      <td>0.000000</td>\n",
       "      <td>0.000000</td>\n",
       "      <td>0.000000</td>\n",
       "      <td>0.000000</td>\n",
       "    </tr>\n",
       "    <tr>\n",
       "      <th>50%</th>\n",
       "      <td>2.019112e+07</td>\n",
       "      <td>1235.000000</td>\n",
       "      <td>2.019112e+07</td>\n",
       "      <td>1226.000000</td>\n",
       "      <td>14.000000</td>\n",
       "      <td>0.000000</td>\n",
       "      <td>0.000000</td>\n",
       "      <td>0.000000</td>\n",
       "      <td>20.000000</td>\n",
       "    </tr>\n",
       "    <tr>\n",
       "      <th>75%</th>\n",
       "      <td>2.020093e+07</td>\n",
       "      <td>1757.000000</td>\n",
       "      <td>2.020093e+07</td>\n",
       "      <td>1757.000000</td>\n",
       "      <td>94.000000</td>\n",
       "      <td>7.000000</td>\n",
       "      <td>0.000000</td>\n",
       "      <td>0.000000</td>\n",
       "      <td>116.000000</td>\n",
       "    </tr>\n",
       "    <tr>\n",
       "      <th>max</th>\n",
       "      <td>2.021063e+07</td>\n",
       "      <td>2359.000000</td>\n",
       "      <td>2.021070e+07</td>\n",
       "      <td>2359.000000</td>\n",
       "      <td>7596.000000</td>\n",
       "      <td>5362.000000</td>\n",
       "      <td>2880.000000</td>\n",
       "      <td>1159.000000</td>\n",
       "      <td>7596.000000</td>\n",
       "    </tr>\n",
       "  </tbody>\n",
       "</table>\n",
       "</div>"
      ],
      "text/plain": [
       "       LEG_DEP_GMT_DT  LEG_DEP_GMT_TM  LEG_ARR_GMT_DT  LEG_ARR_GMT_TM  \\\n",
       "count    9.954600e+04    99546.000000    9.954600e+04    99546.000000   \n",
       "mean     2.019249e+07     1201.375203    2.019250e+07     1208.110803   \n",
       "std      1.289824e+04      668.607877    1.289884e+04      666.799934   \n",
       "min      2.017010e+07        0.000000    2.017010e+07        0.000000   \n",
       "25%      2.018083e+07      618.000000    2.018083e+07      646.000000   \n",
       "50%      2.019112e+07     1235.000000    2.019112e+07     1226.000000   \n",
       "75%      2.020093e+07     1757.000000    2.020093e+07     1757.000000   \n",
       "max      2.021063e+07     2359.000000    2.021070e+07     2359.000000   \n",
       "\n",
       "       DELAY1_DURATION  DELAY2_DURATION  DELAY3_DURATION  DELAY4_DURATION  \\\n",
       "count     99546.000000     99546.000000     99546.000000     99546.000000   \n",
       "mean        112.058486        12.377192         2.249915         0.353264   \n",
       "std         277.712802        67.957361        24.556694         8.632271   \n",
       "min           0.000000         0.000000         0.000000         0.000000   \n",
       "25%           0.000000         0.000000         0.000000         0.000000   \n",
       "50%          14.000000         0.000000         0.000000         0.000000   \n",
       "75%          94.000000         7.000000         0.000000         0.000000   \n",
       "max        7596.000000      5362.000000      2880.000000      1159.000000   \n",
       "\n",
       "       TOT_DELAY_DURATION  \n",
       "count        99546.000000  \n",
       "mean           127.038856  \n",
       "std            297.532552  \n",
       "min              0.000000  \n",
       "25%              0.000000  \n",
       "50%             20.000000  \n",
       "75%            116.000000  \n",
       "max           7596.000000  "
      ]
     },
     "execution_count": 5,
     "metadata": {},
     "output_type": "execute_result"
    }
   ],
   "source": [
    "df.describe()"
   ]
  },
  {
   "cell_type": "code",
   "execution_count": null,
   "metadata": {},
   "outputs": [],
   "source": [
    "plt.figure(figsize=(15,10))\n",
    "sns.heatmap(df.isnull())"
   ]
  },
  {
   "cell_type": "code",
   "execution_count": null,
   "metadata": {},
   "outputs": [],
   "source": [
    "df.isna()"
   ]
  },
  {
   "cell_type": "markdown",
   "metadata": {},
   "source": [
    "HEDEF \n",
    "* Ayları mevsimsel olarak kodlama\n",
    "* Saatleri gün dilimlerine bölme (06-12 sabah, öğle, akşam, gece )\n",
    "* Hedef değişkenini oluşturma \n",
    "* Encoding \n",
    "* X_train, X_test \n",
    "\n"
   ]
  },
  {
   "cell_type": "code",
   "execution_count": 6,
   "metadata": {},
   "outputs": [],
   "source": [
    "df['DELAY'] = [1 if x>0 else 0 for x in df['TOT_DELAY_DURATION']]"
   ]
  },
  {
   "cell_type": "code",
   "execution_count": null,
   "metadata": {},
   "outputs": [],
   "source": [
    "df.head()"
   ]
  },
  {
   "cell_type": "code",
   "execution_count": null,
   "metadata": {},
   "outputs": [],
   "source": [
    "df[\"LEG_DEP_GMT_DT\"].dtype"
   ]
  },
  {
   "cell_type": "code",
   "execution_count": null,
   "metadata": {},
   "outputs": [],
   "source": [
    "df[\"LEG_ARR_GMT_DT\"].dtype"
   ]
  },
  {
   "cell_type": "code",
   "execution_count": 7,
   "metadata": {},
   "outputs": [],
   "source": [
    "df[\"LEG_DEP_GMT_DT\"] = pd.to_datetime(df[\"LEG_DEP_GMT_DT\"],format='%Y%m%d') "
   ]
  },
  {
   "cell_type": "code",
   "execution_count": 8,
   "metadata": {},
   "outputs": [],
   "source": [
    "df['LEG_DEP_GMT_DT'] = df['LEG_DEP_GMT_DT'].apply(lambda time: time.month)"
   ]
  },
  {
   "cell_type": "code",
   "execution_count": 9,
   "metadata": {},
   "outputs": [
    {
     "data": {
      "text/plain": [
       "dtype('int64')"
      ]
     },
     "execution_count": 9,
     "metadata": {},
     "output_type": "execute_result"
    }
   ],
   "source": [
    "df[\"LEG_ARR_GMT_DT\"][0].dtype"
   ]
  },
  {
   "cell_type": "code",
   "execution_count": 10,
   "metadata": {},
   "outputs": [],
   "source": [
    "df[\"LEG_ARR_GMT_DT\"] = pd.to_datetime(df[\"LEG_ARR_GMT_DT\"],format='%Y%m%d') "
   ]
  },
  {
   "cell_type": "code",
   "execution_count": 11,
   "metadata": {},
   "outputs": [],
   "source": [
    "df['LEG_ARR_GMT_DT'] = df['LEG_ARR_GMT_DT'].apply(lambda time: time.month)"
   ]
  },
  {
   "cell_type": "code",
   "execution_count": 12,
   "metadata": {},
   "outputs": [
    {
     "data": {
      "text/plain": [
       "(99546, 29)"
      ]
     },
     "execution_count": 12,
     "metadata": {},
     "output_type": "execute_result"
    }
   ],
   "source": [
    "df.shape"
   ]
  },
  {
   "cell_type": "markdown",
   "metadata": {},
   "source": [
    "Target Variable : Delay \n",
    "Size : (99546, 29)\n",
    "Variables: object -->19, int64 -->10\n",
    "Missing Values "
   ]
  },
  {
   "cell_type": "code",
   "execution_count": null,
   "metadata": {},
   "outputs": [],
   "source": [
    "df.dtypes.value_counts().plot.pie()"
   ]
  },
  {
   "cell_type": "code",
   "execution_count": 13,
   "metadata": {},
   "outputs": [
    {
     "data": {
      "text/plain": [
       "FLT_NO                 0.000000\n",
       "DELAY4_DURATION        0.000000\n",
       "DELAY3_DURATION        0.000000\n",
       "DELAY2_DURATION        0.000000\n",
       "DELAY1_DURATION        0.000000\n",
       "DELAY_ROOT_DEP_AP      0.000000\n",
       "DELAY_ROOT_ARR_AP      0.000000\n",
       "TOT_DELAY_DURATION     0.000000\n",
       "LEG_ARR_GMT_DT         0.000000\n",
       "LEG_ARR_AP             0.000000\n",
       "LEG_ARR_GMT_TM         0.000000\n",
       "DELAY                  0.000000\n",
       "LEG_DEP_GMT_TM         0.000000\n",
       "LEG_DEP_GMT_DT         0.000000\n",
       "LEG_DEP_AP             0.000000\n",
       "ACT_CUS_FLE            0.000000\n",
       "FLEET                  0.000000\n",
       "FLEET_FAM              0.000000\n",
       "FLEET_FAM_GRP          0.000000\n",
       "FLT_TYP                0.000000\n",
       "FLEET_BODY_TYP         0.000000\n",
       "LEG_ARR_CNTRY_COD      0.000342\n",
       "LEG_DEP_CNTRY_COD      0.000342\n",
       "LEG_DEP_RGN_COD        0.037922\n",
       "LEG_ACT_ARR_RGN_COD    0.037942\n",
       "DELAY1_SUB_CODE        0.363119\n",
       "DELAY2_SUB_CODE        0.638891\n",
       "DELAY3_SUB_CODE        0.898077\n",
       "DELAY4_SUB_CODE        0.984570\n",
       "dtype: float64"
      ]
     },
     "execution_count": 13,
     "metadata": {},
     "output_type": "execute_result"
    }
   ],
   "source": [
    "(df.isna().sum()/df.shape[0]).sort_values(ascending=True)"
   ]
  },
  {
   "cell_type": "code",
   "execution_count": 14,
   "metadata": {},
   "outputs": [],
   "source": [
    "df=df[df.columns[df.isna().sum()/df.shape[0]<0.6]]"
   ]
  },
  {
   "cell_type": "code",
   "execution_count": 15,
   "metadata": {},
   "outputs": [
    {
     "data": {
      "text/plain": [
       "(99546, 26)"
      ]
     },
     "execution_count": 15,
     "metadata": {},
     "output_type": "execute_result"
    }
   ],
   "source": [
    "df.shape"
   ]
  },
  {
   "cell_type": "markdown",
   "metadata": {},
   "source": [
    "Visualisation of Target Variable \n",
    "%63 delayed \n",
    "%36 non delayed "
   ]
  },
  {
   "cell_type": "code",
   "execution_count": 16,
   "metadata": {},
   "outputs": [
    {
     "data": {
      "text/plain": [
       "1    0.636881\n",
       "0    0.363119\n",
       "Name: DELAY, dtype: float64"
      ]
     },
     "execution_count": 16,
     "metadata": {},
     "output_type": "execute_result"
    }
   ],
   "source": [
    "df[\"DELAY\"].value_counts(normalize=True)"
   ]
  },
  {
   "cell_type": "markdown",
   "metadata": {},
   "source": [
    "Histogramme "
   ]
  },
  {
   "cell_type": "code",
   "execution_count": null,
   "metadata": {},
   "outputs": [],
   "source": [
    "for col in df.select_dtypes('int64'):\n",
    "    plt.figure()\n",
    "    sns.distplot(df[col],kde=False)\n",
    "    "
   ]
  },
  {
   "cell_type": "code",
   "execution_count": null,
   "metadata": {},
   "outputs": [],
   "source": [
    "sns.pairplot(df,kind='hist')"
   ]
  },
  {
   "cell_type": "code",
   "execution_count": 27,
   "metadata": {},
   "outputs": [
    {
     "name": "stdout",
     "output_type": "stream",
     "text": [
      "FLT_NO--------------------------------------------712\n",
      "ACT_CUS_FLE---------------------------------------29\n",
      "FLEET---------------------------------------------17\n",
      "FLEET_FAM-----------------------------------------10\n",
      "FLEET_FAM_GRP-------------------------------------8\n",
      "FLEET_BODY_TYP------------------------------------2\n",
      "FLT_TYP-------------------------------------------2\n",
      "LEG_DEP_AP----------------------------------------202\n",
      "LEG_DEP_CNTRY_COD---------------------------------111\n",
      "LEG_DEP_RGN_COD-----------------------------------10\n",
      "LEG_ARR_AP----------------------------------------203\n",
      "LEG_ARR_CNTRY_COD---------------------------------111\n",
      "LEG_ACT_ARR_RGN_COD-------------------------------10\n",
      "DELAY1_SUB_CODE-----------------------------------353\n",
      "DELAY_ROOT_ARR_AP---------------------------------76\n",
      "DELAY_ROOT_DEP_AP---------------------------------65\n"
     ]
    }
   ],
   "source": [
    "for col in df.select_dtypes('object'):\n",
    "    print(f'{col:-<50}{df[col].nunique()}')"
   ]
  },
  {
   "cell_type": "code",
   "execution_count": null,
   "metadata": {},
   "outputs": [],
   "source": [
    "for col in df.select_dtypes('object'):\n",
    "    plt.figure()\n",
    "    df[col].value_counts().plot.pie()"
   ]
  },
  {
   "cell_type": "code",
   "execution_count": null,
   "metadata": {},
   "outputs": [],
   "source": [
    "df_delayed=df[df['DELAY']==1]\n",
    "df_nondelayed=df[df['DELAY']==0]"
   ]
  },
  {
   "cell_type": "code",
   "execution_count": null,
   "metadata": {},
   "outputs": [],
   "source": [
    "df_delayed.head()"
   ]
  },
  {
   "cell_type": "code",
   "execution_count": null,
   "metadata": {},
   "outputs": [],
   "source": [
    "#df[\"LEG_DEP_GMT_TM\"] = pd.to_datetime(df[\"LEG_DEP_GMT_TM\"],format='%H%m') \n",
    "#df['LEG_DEP_GMT_TM'] = df['LEG_DEP_GMT_TM'].apply(lambda time: time.hour)"
   ]
  },
  {
   "cell_type": "code",
   "execution_count": null,
   "metadata": {},
   "outputs": [],
   "source": [
    "df.head()"
   ]
  },
  {
   "cell_type": "code",
   "execution_count": null,
   "metadata": {},
   "outputs": [],
   "source": [
    "#df['LEG_DEP_GMT_TM_H'] = df['LEG_DEP_GMT_TM'].apply(lambda x: x.split(str(df['LEG_DEP_GMT_TM']),2))"
   ]
  },
  {
   "cell_type": "code",
   "execution_count": 17,
   "metadata": {},
   "outputs": [],
   "source": [
    "df['LEG_ARR_GMT_TM'] = df['LEG_ARR_GMT_TM'].apply(lambda x: x//100)"
   ]
  },
  {
   "cell_type": "code",
   "execution_count": 18,
   "metadata": {},
   "outputs": [],
   "source": [
    "df['LEG_DEP_GMT_TM'] = df['LEG_DEP_GMT_TM'].apply(lambda x: x//100)"
   ]
  },
  {
   "cell_type": "code",
   "execution_count": 20,
   "metadata": {},
   "outputs": [
    {
     "data": {
      "text/html": [
       "<div>\n",
       "<style scoped>\n",
       "    .dataframe tbody tr th:only-of-type {\n",
       "        vertical-align: middle;\n",
       "    }\n",
       "\n",
       "    .dataframe tbody tr th {\n",
       "        vertical-align: top;\n",
       "    }\n",
       "\n",
       "    .dataframe thead th {\n",
       "        text-align: right;\n",
       "    }\n",
       "</style>\n",
       "<table border=\"1\" class=\"dataframe\">\n",
       "  <thead>\n",
       "    <tr style=\"text-align: right;\">\n",
       "      <th></th>\n",
       "      <th>FLT_NO</th>\n",
       "      <th>ACT_CUS_FLE</th>\n",
       "      <th>FLEET</th>\n",
       "      <th>FLEET_FAM</th>\n",
       "      <th>FLEET_FAM_GRP</th>\n",
       "      <th>FLEET_BODY_TYP</th>\n",
       "      <th>FLT_TYP</th>\n",
       "      <th>LEG_DEP_AP</th>\n",
       "      <th>LEG_DEP_GMT_DT</th>\n",
       "      <th>LEG_DEP_GMT_TM</th>\n",
       "      <th>...</th>\n",
       "      <th>LEG_ACT_ARR_RGN_COD</th>\n",
       "      <th>DELAY1_SUB_CODE</th>\n",
       "      <th>DELAY_ROOT_ARR_AP</th>\n",
       "      <th>DELAY_ROOT_DEP_AP</th>\n",
       "      <th>DELAY1_DURATION</th>\n",
       "      <th>DELAY2_DURATION</th>\n",
       "      <th>DELAY3_DURATION</th>\n",
       "      <th>DELAY4_DURATION</th>\n",
       "      <th>TOT_DELAY_DURATION</th>\n",
       "      <th>DELAY</th>\n",
       "    </tr>\n",
       "  </thead>\n",
       "  <tbody>\n",
       "    <tr>\n",
       "      <th>99541</th>\n",
       "      <td>FL7848</td>\n",
       "      <td>FL-4SX</td>\n",
       "      <td>TX750-20K</td>\n",
       "      <td>TX750</td>\n",
       "      <td>TX750</td>\n",
       "      <td>B1</td>\n",
       "      <td>TYP2</td>\n",
       "      <td>HKG</td>\n",
       "      <td>2</td>\n",
       "      <td>5</td>\n",
       "      <td>...</td>\n",
       "      <td>FE</td>\n",
       "      <td>01C</td>\n",
       "      <td>?</td>\n",
       "      <td>?</td>\n",
       "      <td>119</td>\n",
       "      <td>0</td>\n",
       "      <td>0</td>\n",
       "      <td>0</td>\n",
       "      <td>119</td>\n",
       "      <td>1</td>\n",
       "    </tr>\n",
       "    <tr>\n",
       "      <th>99542</th>\n",
       "      <td>FL7848</td>\n",
       "      <td>FL-4SX</td>\n",
       "      <td>TX750-20K</td>\n",
       "      <td>TX750</td>\n",
       "      <td>TX750</td>\n",
       "      <td>B1</td>\n",
       "      <td>TYP2</td>\n",
       "      <td>HKG</td>\n",
       "      <td>3</td>\n",
       "      <td>4</td>\n",
       "      <td>...</td>\n",
       "      <td>FE</td>\n",
       "      <td>01C</td>\n",
       "      <td>?</td>\n",
       "      <td>?</td>\n",
       "      <td>56</td>\n",
       "      <td>0</td>\n",
       "      <td>0</td>\n",
       "      <td>0</td>\n",
       "      <td>56</td>\n",
       "      <td>1</td>\n",
       "    </tr>\n",
       "    <tr>\n",
       "      <th>99543</th>\n",
       "      <td>FL7848</td>\n",
       "      <td>FL-4SX</td>\n",
       "      <td>TX750-20K</td>\n",
       "      <td>TX750</td>\n",
       "      <td>TX750</td>\n",
       "      <td>B1</td>\n",
       "      <td>TYP2</td>\n",
       "      <td>HKG</td>\n",
       "      <td>3</td>\n",
       "      <td>3</td>\n",
       "      <td>...</td>\n",
       "      <td>FE</td>\n",
       "      <td>93Z</td>\n",
       "      <td>?</td>\n",
       "      <td>?</td>\n",
       "      <td>20</td>\n",
       "      <td>0</td>\n",
       "      <td>0</td>\n",
       "      <td>0</td>\n",
       "      <td>20</td>\n",
       "      <td>1</td>\n",
       "    </tr>\n",
       "    <tr>\n",
       "      <th>99544</th>\n",
       "      <td>FL7848</td>\n",
       "      <td>FL-4SX</td>\n",
       "      <td>TX750-20K</td>\n",
       "      <td>TX750</td>\n",
       "      <td>TX750</td>\n",
       "      <td>B1</td>\n",
       "      <td>TYP2</td>\n",
       "      <td>HKG</td>\n",
       "      <td>3</td>\n",
       "      <td>6</td>\n",
       "      <td>...</td>\n",
       "      <td>FE</td>\n",
       "      <td>01C</td>\n",
       "      <td>?</td>\n",
       "      <td>?</td>\n",
       "      <td>215</td>\n",
       "      <td>6</td>\n",
       "      <td>0</td>\n",
       "      <td>0</td>\n",
       "      <td>221</td>\n",
       "      <td>1</td>\n",
       "    </tr>\n",
       "    <tr>\n",
       "      <th>99545</th>\n",
       "      <td>FL7848</td>\n",
       "      <td>FL-4SX</td>\n",
       "      <td>TX750-20K</td>\n",
       "      <td>TX750</td>\n",
       "      <td>TX750</td>\n",
       "      <td>B1</td>\n",
       "      <td>TYP2</td>\n",
       "      <td>HKG</td>\n",
       "      <td>3</td>\n",
       "      <td>3</td>\n",
       "      <td>...</td>\n",
       "      <td>FE</td>\n",
       "      <td>93Z</td>\n",
       "      <td>?</td>\n",
       "      <td>?</td>\n",
       "      <td>45</td>\n",
       "      <td>0</td>\n",
       "      <td>0</td>\n",
       "      <td>0</td>\n",
       "      <td>45</td>\n",
       "      <td>1</td>\n",
       "    </tr>\n",
       "  </tbody>\n",
       "</table>\n",
       "<p>5 rows × 26 columns</p>\n",
       "</div>"
      ],
      "text/plain": [
       "       FLT_NO ACT_CUS_FLE      FLEET FLEET_FAM FLEET_FAM_GRP FLEET_BODY_TYP  \\\n",
       "99541  FL7848      FL-4SX  TX750-20K     TX750         TX750             B1   \n",
       "99542  FL7848      FL-4SX  TX750-20K     TX750         TX750             B1   \n",
       "99543  FL7848      FL-4SX  TX750-20K     TX750         TX750             B1   \n",
       "99544  FL7848      FL-4SX  TX750-20K     TX750         TX750             B1   \n",
       "99545  FL7848      FL-4SX  TX750-20K     TX750         TX750             B1   \n",
       "\n",
       "      FLT_TYP LEG_DEP_AP  LEG_DEP_GMT_DT  LEG_DEP_GMT_TM  ...  \\\n",
       "99541    TYP2        HKG               2               5  ...   \n",
       "99542    TYP2        HKG               3               4  ...   \n",
       "99543    TYP2        HKG               3               3  ...   \n",
       "99544    TYP2        HKG               3               6  ...   \n",
       "99545    TYP2        HKG               3               3  ...   \n",
       "\n",
       "      LEG_ACT_ARR_RGN_COD DELAY1_SUB_CODE DELAY_ROOT_ARR_AP  \\\n",
       "99541                  FE             01C                 ?   \n",
       "99542                  FE             01C                 ?   \n",
       "99543                  FE             93Z                 ?   \n",
       "99544                  FE             01C                 ?   \n",
       "99545                  FE             93Z                 ?   \n",
       "\n",
       "       DELAY_ROOT_DEP_AP  DELAY1_DURATION DELAY2_DURATION DELAY3_DURATION  \\\n",
       "99541                  ?              119               0               0   \n",
       "99542                  ?               56               0               0   \n",
       "99543                  ?               20               0               0   \n",
       "99544                  ?              215               6               0   \n",
       "99545                  ?               45               0               0   \n",
       "\n",
       "      DELAY4_DURATION TOT_DELAY_DURATION DELAY  \n",
       "99541               0                119     1  \n",
       "99542               0                 56     1  \n",
       "99543               0                 20     1  \n",
       "99544               0                221     1  \n",
       "99545               0                 45     1  \n",
       "\n",
       "[5 rows x 26 columns]"
      ]
     },
     "execution_count": 20,
     "metadata": {},
     "output_type": "execute_result"
    }
   ],
   "source": [
    "df.tail()"
   ]
  },
  {
   "cell_type": "code",
   "execution_count": null,
   "metadata": {},
   "outputs": [],
   "source": [
    "#df=df.drop('LEG_DEP_GMT_TM_H',inplace=True,axis=1)"
   ]
  },
  {
   "cell_type": "code",
   "execution_count": 24,
   "metadata": {},
   "outputs": [
    {
     "data": {
      "text/plain": [
       "array(['TX750', 'TW650', 'TX650', 'TW620', 'TX702', 'TW802', 'TW501',\n",
       "       'TW502', 'TW540', 'TX505'], dtype=object)"
      ]
     },
     "execution_count": 24,
     "metadata": {},
     "output_type": "execute_result"
    }
   ],
   "source": [
    "df['FLEET_FAM'].unique()"
   ]
  },
  {
   "cell_type": "code",
   "execution_count": 23,
   "metadata": {},
   "outputs": [
    {
     "data": {
      "text/plain": [
       "array(['TX750', 'TW650', 'TX650', 'TX700', 'TW800', 'TW500', 'TW550',\n",
       "       'TX500'], dtype=object)"
      ]
     },
     "execution_count": 23,
     "metadata": {},
     "output_type": "execute_result"
    }
   ],
   "source": [
    "df['FLEET_FAM_GRP'].unique()"
   ]
  },
  {
   "cell_type": "code",
   "execution_count": 26,
   "metadata": {},
   "outputs": [
    {
     "data": {
      "text/plain": [
       "17"
      ]
     },
     "execution_count": 26,
     "metadata": {},
     "output_type": "execute_result"
    }
   ],
   "source": [
    "df['FLEET'].nunique()"
   ]
  },
  {
   "cell_type": "code",
   "execution_count": 28,
   "metadata": {},
   "outputs": [
    {
     "data": {
      "text/plain": [
       "<AxesSubplot:>"
      ]
     },
     "execution_count": 28,
     "metadata": {},
     "output_type": "execute_result"
    },
    {
     "data": {
      "image/png": "[encoded data removed]",
      "text/plain": [
       "<Figure size 1080x720 with 2 Axes>"
      ]
     },
     "metadata": {
      "needs_background": "light"
     },
     "output_type": "display_data"
    }
   ],
   "source": [
    "plt.figure(figsize=(15,10))\n",
    "sns.heatmap(df.isnull())"
   ]
  },
  {
   "cell_type": "code",
   "execution_count": 29,
   "metadata": {},
   "outputs": [
    {
     "data": {
      "text/html": [
       "<div>\n",
       "<style scoped>\n",
       "    .dataframe tbody tr th:only-of-type {\n",
       "        vertical-align: middle;\n",
       "    }\n",
       "\n",
       "    .dataframe tbody tr th {\n",
       "        vertical-align: top;\n",
       "    }\n",
       "\n",
       "    .dataframe thead th {\n",
       "        text-align: right;\n",
       "    }\n",
       "</style>\n",
       "<table border=\"1\" class=\"dataframe\">\n",
       "  <thead>\n",
       "    <tr style=\"text-align: right;\">\n",
       "      <th></th>\n",
       "      <th>FLT_NO</th>\n",
       "      <th>ACT_CUS_FLE</th>\n",
       "      <th>FLEET</th>\n",
       "      <th>FLEET_FAM</th>\n",
       "      <th>FLEET_FAM_GRP</th>\n",
       "      <th>FLEET_BODY_TYP</th>\n",
       "      <th>FLT_TYP</th>\n",
       "      <th>LEG_DEP_AP</th>\n",
       "      <th>LEG_DEP_GMT_DT</th>\n",
       "      <th>LEG_DEP_GMT_TM</th>\n",
       "      <th>...</th>\n",
       "      <th>LEG_ACT_ARR_RGN_COD</th>\n",
       "      <th>DELAY1_SUB_CODE</th>\n",
       "      <th>DELAY_ROOT_ARR_AP</th>\n",
       "      <th>DELAY_ROOT_DEP_AP</th>\n",
       "      <th>DELAY1_DURATION</th>\n",
       "      <th>DELAY2_DURATION</th>\n",
       "      <th>DELAY3_DURATION</th>\n",
       "      <th>DELAY4_DURATION</th>\n",
       "      <th>TOT_DELAY_DURATION</th>\n",
       "      <th>DELAY</th>\n",
       "    </tr>\n",
       "  </thead>\n",
       "  <tbody>\n",
       "    <tr>\n",
       "      <th>0</th>\n",
       "      <td>FL7064</td>\n",
       "      <td>FL-45X</td>\n",
       "      <td>TX750-30</td>\n",
       "      <td>TX750</td>\n",
       "      <td>TX750</td>\n",
       "      <td>B1</td>\n",
       "      <td>TYP1</td>\n",
       "      <td>IST</td>\n",
       "      <td>5</td>\n",
       "      <td>12</td>\n",
       "      <td>...</td>\n",
       "      <td>FE</td>\n",
       "      <td>NaN</td>\n",
       "      <td>?</td>\n",
       "      <td>?</td>\n",
       "      <td>0</td>\n",
       "      <td>0</td>\n",
       "      <td>0</td>\n",
       "      <td>0</td>\n",
       "      <td>0</td>\n",
       "      <td>0</td>\n",
       "    </tr>\n",
       "    <tr>\n",
       "      <th>1</th>\n",
       "      <td>FL7064</td>\n",
       "      <td>FL-45X</td>\n",
       "      <td>TX750-30</td>\n",
       "      <td>TX750</td>\n",
       "      <td>TX750</td>\n",
       "      <td>B1</td>\n",
       "      <td>TYP1</td>\n",
       "      <td>IST</td>\n",
       "      <td>5</td>\n",
       "      <td>15</td>\n",
       "      <td>...</td>\n",
       "      <td>FE</td>\n",
       "      <td>NaN</td>\n",
       "      <td>?</td>\n",
       "      <td>?</td>\n",
       "      <td>0</td>\n",
       "      <td>0</td>\n",
       "      <td>0</td>\n",
       "      <td>0</td>\n",
       "      <td>0</td>\n",
       "      <td>0</td>\n",
       "    </tr>\n",
       "    <tr>\n",
       "      <th>2</th>\n",
       "      <td>FL7064</td>\n",
       "      <td>FL-45X</td>\n",
       "      <td>TX750-30</td>\n",
       "      <td>TX750</td>\n",
       "      <td>TX750</td>\n",
       "      <td>B1</td>\n",
       "      <td>TYP1</td>\n",
       "      <td>IST</td>\n",
       "      <td>5</td>\n",
       "      <td>12</td>\n",
       "      <td>...</td>\n",
       "      <td>FE</td>\n",
       "      <td>NaN</td>\n",
       "      <td>?</td>\n",
       "      <td>?</td>\n",
       "      <td>0</td>\n",
       "      <td>0</td>\n",
       "      <td>0</td>\n",
       "      <td>0</td>\n",
       "      <td>0</td>\n",
       "      <td>0</td>\n",
       "    </tr>\n",
       "    <tr>\n",
       "      <th>3</th>\n",
       "      <td>FL7064</td>\n",
       "      <td>FL-45X</td>\n",
       "      <td>TX750-30</td>\n",
       "      <td>TX750</td>\n",
       "      <td>TX750</td>\n",
       "      <td>B1</td>\n",
       "      <td>TYP1</td>\n",
       "      <td>IST</td>\n",
       "      <td>5</td>\n",
       "      <td>15</td>\n",
       "      <td>...</td>\n",
       "      <td>FE</td>\n",
       "      <td>NaN</td>\n",
       "      <td>?</td>\n",
       "      <td>?</td>\n",
       "      <td>0</td>\n",
       "      <td>0</td>\n",
       "      <td>0</td>\n",
       "      <td>0</td>\n",
       "      <td>0</td>\n",
       "      <td>0</td>\n",
       "    </tr>\n",
       "    <tr>\n",
       "      <th>4</th>\n",
       "      <td>FL7064</td>\n",
       "      <td>FL-45X</td>\n",
       "      <td>TX750-30</td>\n",
       "      <td>TX750</td>\n",
       "      <td>TX750</td>\n",
       "      <td>B1</td>\n",
       "      <td>TYP1</td>\n",
       "      <td>IST</td>\n",
       "      <td>5</td>\n",
       "      <td>12</td>\n",
       "      <td>...</td>\n",
       "      <td>FE</td>\n",
       "      <td>NaN</td>\n",
       "      <td>?</td>\n",
       "      <td>?</td>\n",
       "      <td>0</td>\n",
       "      <td>0</td>\n",
       "      <td>0</td>\n",
       "      <td>0</td>\n",
       "      <td>0</td>\n",
       "      <td>0</td>\n",
       "    </tr>\n",
       "  </tbody>\n",
       "</table>\n",
       "<p>5 rows × 26 columns</p>\n",
       "</div>"
      ],
      "text/plain": [
       "   FLT_NO ACT_CUS_FLE     FLEET FLEET_FAM FLEET_FAM_GRP FLEET_BODY_TYP  \\\n",
       "0  FL7064      FL-45X  TX750-30     TX750         TX750             B1   \n",
       "1  FL7064      FL-45X  TX750-30     TX750         TX750             B1   \n",
       "2  FL7064      FL-45X  TX750-30     TX750         TX750             B1   \n",
       "3  FL7064      FL-45X  TX750-30     TX750         TX750             B1   \n",
       "4  FL7064      FL-45X  TX750-30     TX750         TX750             B1   \n",
       "\n",
       "  FLT_TYP LEG_DEP_AP  LEG_DEP_GMT_DT  LEG_DEP_GMT_TM  ... LEG_ACT_ARR_RGN_COD  \\\n",
       "0    TYP1        IST               5              12  ...                  FE   \n",
       "1    TYP1        IST               5              15  ...                  FE   \n",
       "2    TYP1        IST               5              12  ...                  FE   \n",
       "3    TYP1        IST               5              15  ...                  FE   \n",
       "4    TYP1        IST               5              12  ...                  FE   \n",
       "\n",
       "  DELAY1_SUB_CODE DELAY_ROOT_ARR_AP  DELAY_ROOT_DEP_AP  DELAY1_DURATION  \\\n",
       "0             NaN                 ?                  ?                0   \n",
       "1             NaN                 ?                  ?                0   \n",
       "2             NaN                 ?                  ?                0   \n",
       "3             NaN                 ?                  ?                0   \n",
       "4             NaN                 ?                  ?                0   \n",
       "\n",
       "  DELAY2_DURATION DELAY3_DURATION DELAY4_DURATION TOT_DELAY_DURATION DELAY  \n",
       "0               0               0               0                  0     0  \n",
       "1               0               0               0                  0     0  \n",
       "2               0               0               0                  0     0  \n",
       "3               0               0               0                  0     0  \n",
       "4               0               0               0                  0     0  \n",
       "\n",
       "[5 rows x 26 columns]"
      ]
     },
     "execution_count": 29,
     "metadata": {},
     "output_type": "execute_result"
    }
   ],
   "source": [
    "df.head()"
   ]
  },
  {
   "cell_type": "code",
   "execution_count": 30,
   "metadata": {},
   "outputs": [
    {
     "data": {
      "text/plain": [
       "array([nan, '64D', '93Z', '89Z', '56B', '63G', '64A', '36H', '64R', '09C',\n",
       "       '31P', '22E', '22C', '57F', '89K', '65Z', '62D', '63J', '41A',\n",
       "       '36B', '32A', '31B', '87Y', '31A', '31E', '42A', '55O', '31C',\n",
       "       '99A', '21E', '32E', '26C', '72R', '37D', '68G', '63A', '68B',\n",
       "       '41Q', '55A', '63D', '66H', '85F', '39F', '31D', '66A', '77B',\n",
       "       '23A', '71R', '45D', '65Y', '61D', '04A', '21A', '41N', '62M',\n",
       "       '35F', '46N', '31N', '68S', '63C', '92B', '96C', '13M', '36C',\n",
       "       '51C', '86G', '95B', '63B', '86C', '37E', '95A', '35E', '65E',\n",
       "       '63K', '86F', '51J', '86B', '63H', '09A', '61F', '88E', '67E',\n",
       "       '21C', '64E', '02A', '58B', '65C', '62E', '51N', '93X', '36D',\n",
       "       '81Z', '68D', '88D', '26A', '51B', '83R', '64B', '22A', '98F',\n",
       "       '03A', '58A', '31S', '86J', '17X', '24A', '89X', '31H', '85Q',\n",
       "       '67B', '87W', '22B', '32C', '89T', '43P', '41B', '86H', '16D',\n",
       "       '61H', '65D', '31F', '83Z', '22N', '88A', '67R', '88B', '83O',\n",
       "       '76C', '32D', '68O', '32M', '51H', '32B', '68F', '45N', '24N',\n",
       "       '88O', '89S', '61B', '77A', '91O', '86O', '34B', '02B', '96S',\n",
       "       '65N', '32S', '22D', '09B', '75H', '39D', '37G', '36G', '85A',\n",
       "       '26T', '72A', '93Y', '66F', '66G', '35A', '42B', '41E', '96H',\n",
       "       '39C', '43C', '52P', '36F', '23D', '33A', '35H', '87Z', '39A',\n",
       "       '55B', '25C', '32F', '57E', '67D', '96D', '34C', '63X', '34D',\n",
       "       '81Y', '82W', '22O', '66D', '96G', '89V', '27A', '89G', '33D',\n",
       "       '33C', '68N', '25A', '35I', '89Y', '41C', '67A', '63F', '55U',\n",
       "       '87G', '83T', '64C', '71A', '35G', '75A', '52C', '55D', '65R',\n",
       "       '34F', '52F', '85S', '39G', '44A', '87H', '86A', '55C', '75B',\n",
       "       '87J', '94B', '87R', '28D', '55S', '82Y', '89M', '98N', '01A',\n",
       "       '93V', '34N', '51A', '36K', '57D', '93W', '91N', '51E', '86X',\n",
       "       '82Q', '82Z', '22X', '82X', '93U', '38B', '01B', '01Y', '63L',\n",
       "       '24Y', '01C', '01D', '57A', '84A', '25B', '45A', '56A', '96F',\n",
       "       '41P', '34E', '88P', '96X', '89L', '01E', '28A', '39H', '86D',\n",
       "       '38A', '56D', '96N', '23B', '96T', '33B', '96E', '41D', '23C',\n",
       "       '01X', '26X', '95C', '29B', '96A', '38C', '52N', '65B', '77C',\n",
       "       '24B', '62B', '24X', '62N', '03B', '16N', '39B', '85P', '83U',\n",
       "       '36A', '41S', '98L', '41R', '33X', '27C', '29A', '64H', '88C',\n",
       "       '56E', '36E', '83S', '32X', '46E', '89U', '72B', '63M', '87K',\n",
       "       '83Y', '41X', '97D', '98E', '23E', '57B', '39X', '83V', '98D',\n",
       "       '21X', '61I', '28B', '85T', '75C', '86N', '88Q', '72X', '52K',\n",
       "       '51D', '28C', '89R', '89N', '35D', '66B', '73R', '43N', '98B',\n",
       "       '17P', '52B', '17A', '82V', '73A', '51X', '31G', '36X', '51K',\n",
       "       '71X', '23X', '85H', '89J', '44C', '66E', '41O', '11O', '76A',\n",
       "       '73B', '73Z'], dtype=object)"
      ]
     },
     "execution_count": 30,
     "metadata": {},
     "output_type": "execute_result"
    }
   ],
   "source": [
    "df['DELAY1_SUB_CODE'].unique()"
   ]
  },
  {
   "cell_type": "code",
   "execution_count": 32,
   "metadata": {},
   "outputs": [
    {
     "ename": "SyntaxError",
     "evalue": "invalid syntax (<ipython-input-32-d23e78e34389>, line 1)",
     "output_type": "error",
     "traceback": [
      "\u001b[0;36m  File \u001b[0;32m\"<ipython-input-32-d23e78e34389>\"\u001b[0;36m, line \u001b[0;32m1\u001b[0m\n\u001b[0;31m    df['DELAY1_SUB_CODE_1']=df[df['DELAY1_SUB_CODE']=='93Z',df['DELAY1_SUB_CODE']='General']\u001b[0m\n\u001b[0m                                                                                 ^\u001b[0m\n\u001b[0;31mSyntaxError\u001b[0m\u001b[0;31m:\u001b[0m invalid syntax\n"
     ]
    }
   ],
   "source": [
    "df['DELAY1_SUB_CODE_1']=df[df['DELAY1_SUB_CODE']=='93Z',df['DELAY1_SUB_CODE']='General']"
   ]
  },
  {
   "cell_type": "code",
   "execution_count": 35,
   "metadata": {},
   "outputs": [],
   "source": [
    "df['DELAY1_SUB_CODE'] = df['DELAY1_SUB_CODE'].replace(['93Z'],'CF')"
   ]
  },
  {
   "cell_type": "code",
   "execution_count": 38,
   "metadata": {},
   "outputs": [],
   "source": [
    "df['DELAY1_SUB_CODE'] = df['DELAY1_SUB_CODE'].replace(['21A','21C','22A','22B','22C','22D','22E','22N','22O','23A','23C','23D','23E','24A','24B','24N','26A','26C','26T','27A','27C','28A','28B','28C','28D','31A','31B','31G','31N','31P','31S','32A','32B','32C','32D','32E','32G','32M','33A','33B','33C','33D','33E','34B','34C','34D','34E','34F','34N','35A','35B','35C','35D','35E','35G','35H','38A','38B','39A','39B','39C','39D','39E','39F','39G','39H','52A','52C'],'OP')"
   ]
  },
  {
   "cell_type": "code",
   "execution_count": null,
   "metadata": {},
   "outputs": [],
   "source": []
  }
 ],
 "metadata": {
  "kernelspec": {
   "display_name": "Python 3",
   "language": "python",
   "name": "python3"
  },
  "language_info": {
   "codemirror_mode": {
    "name": "ipython",
    "version": 3
   },
   "file_extension": ".py",
   "mimetype": "text/x-python",
   "name": "python",
   "nbconvert_exporter": "python",
   "pygments_lexer": "ipython3",
   "version": "3.8.5"
  }
 },
 "nbformat": 4,
 "nbformat_minor": 5
}
